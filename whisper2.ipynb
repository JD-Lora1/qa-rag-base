{
 "cells": [
  {
   "cell_type": "code",
   "execution_count": 23,
   "id": "cc3dae0f",
   "metadata": {},
   "outputs": [
    {
     "name": "stdout",
     "output_type": "stream",
     "text": [
      "Requirement already satisfied: openai-whisper in c:\\users\\jl\\appdata\\local\\programs\\python\\python310\\lib\\site-packages (20250625)Note: you may need to restart the kernel to use updated packages.\n",
      "\n",
      "Requirement already satisfied: more-itertools in c:\\users\\jl\\appdata\\local\\programs\\python\\python310\\lib\\site-packages (from openai-whisper) (10.7.0)\n",
      "Requirement already satisfied: numba in c:\\users\\jl\\appdata\\local\\programs\\python\\python310\\lib\\site-packages (from openai-whisper) (0.61.2)\n",
      "Requirement already satisfied: numpy in c:\\users\\jl\\appdata\\local\\programs\\python\\python310\\lib\\site-packages (from openai-whisper) (2.2.6)\n",
      "Requirement already satisfied: tiktoken in c:\\users\\jl\\appdata\\local\\programs\\python\\python310\\lib\\site-packages (from openai-whisper) (0.11.0)\n",
      "Requirement already satisfied: torch in c:\\users\\jl\\appdata\\local\\programs\\python\\python310\\lib\\site-packages (from openai-whisper) (2.8.0+cu126)\n",
      "Requirement already satisfied: tqdm in c:\\users\\jl\\appdata\\local\\programs\\python\\python310\\lib\\site-packages (from openai-whisper) (4.67.1)\n",
      "Requirement already satisfied: llvmlite<0.45,>=0.44.0dev0 in c:\\users\\jl\\appdata\\local\\programs\\python\\python310\\lib\\site-packages (from numba->openai-whisper) (0.44.0)\n",
      "Requirement already satisfied: regex>=2022.1.18 in c:\\users\\jl\\appdata\\local\\programs\\python\\python310\\lib\\site-packages (from tiktoken->openai-whisper) (2025.7.34)\n",
      "Requirement already satisfied: requests>=2.26.0 in c:\\users\\jl\\appdata\\local\\programs\\python\\python310\\lib\\site-packages (from tiktoken->openai-whisper) (2.32.4)\n",
      "Requirement already satisfied: charset_normalizer<4,>=2 in c:\\users\\jl\\appdata\\local\\programs\\python\\python310\\lib\\site-packages (from requests>=2.26.0->tiktoken->openai-whisper) (3.4.3)\n",
      "Requirement already satisfied: idna<4,>=2.5 in c:\\users\\jl\\appdata\\local\\programs\\python\\python310\\lib\\site-packages (from requests>=2.26.0->tiktoken->openai-whisper) (3.10)\n",
      "Requirement already satisfied: urllib3<3,>=1.21.1 in c:\\users\\jl\\appdata\\local\\programs\\python\\python310\\lib\\site-packages (from requests>=2.26.0->tiktoken->openai-whisper) (2.5.0)\n",
      "Requirement already satisfied: certifi>=2017.4.17 in c:\\users\\jl\\appdata\\local\\programs\\python\\python310\\lib\\site-packages (from requests>=2.26.0->tiktoken->openai-whisper) (2025.8.3)\n",
      "Requirement already satisfied: filelock in c:\\users\\jl\\appdata\\local\\programs\\python\\python310\\lib\\site-packages (from torch->openai-whisper) (3.18.0)\n",
      "Requirement already satisfied: typing-extensions>=4.10.0 in c:\\users\\jl\\appdata\\local\\programs\\python\\python310\\lib\\site-packages (from torch->openai-whisper) (4.14.1)\n",
      "Requirement already satisfied: sympy>=1.13.3 in c:\\users\\jl\\appdata\\local\\programs\\python\\python310\\lib\\site-packages (from torch->openai-whisper) (1.14.0)\n",
      "Requirement already satisfied: networkx in c:\\users\\jl\\appdata\\local\\programs\\python\\python310\\lib\\site-packages (from torch->openai-whisper) (3.4.2)\n",
      "Requirement already satisfied: jinja2 in c:\\users\\jl\\appdata\\local\\programs\\python\\python310\\lib\\site-packages (from torch->openai-whisper) (3.1.6)\n",
      "Requirement already satisfied: fsspec in c:\\users\\jl\\appdata\\local\\programs\\python\\python310\\lib\\site-packages (from torch->openai-whisper) (2025.3.0)\n",
      "Requirement already satisfied: mpmath<1.4,>=1.1.0 in c:\\users\\jl\\appdata\\local\\programs\\python\\python310\\lib\\site-packages (from sympy>=1.13.3->torch->openai-whisper) (1.3.0)\n",
      "Requirement already satisfied: MarkupSafe>=2.0 in c:\\users\\jl\\appdata\\local\\programs\\python\\python310\\lib\\site-packages (from jinja2->torch->openai-whisper) (3.0.2)\n",
      "Requirement already satisfied: colorama in c:\\users\\jl\\appdata\\local\\programs\\python\\python310\\lib\\site-packages (from tqdm->openai-whisper) (0.4.6)\n"
     ]
    }
   ],
   "source": [
    "%pip install -U openai-whisper"
   ]
  },
  {
   "cell_type": "code",
   "execution_count": 24,
   "id": "ac998916",
   "metadata": {},
   "outputs": [
    {
     "name": "stdout",
     "output_type": "stream",
     "text": [
      "Requirement already satisfied: yt-dlp in c:\\users\\jl\\appdata\\local\\programs\\python\\python310\\lib\\site-packages (2025.8.11)\n",
      "Note: you may need to restart the kernel to use updated packages.\n"
     ]
    }
   ],
   "source": [
    "%pip install yt-dlp"
   ]
  },
  {
   "cell_type": "code",
   "execution_count": 25,
   "id": "b8dd0d5d",
   "metadata": {},
   "outputs": [
    {
     "name": "stdout",
     "output_type": "stream",
     "text": [
      "¡Audio descargado y convertido a mp3!                    \n"
     ]
    }
   ],
   "source": [
    "import yt_dlp\n",
    "\n",
    "def descargar_audio_youtube(url, nombre_salida=\"audio\"):\n",
    "    ydl_opts = {\n",
    "        'format': 'bestaudio/best',\n",
    "        'outtmpl': nombre_salida,\n",
    "        'postprocessors': [{  # Convertir a mp3\n",
    "            'key': 'FFmpegExtractAudio',\n",
    "            'preferredcodec': 'mp3',\n",
    "            'preferredquality': '192',\n",
    "        }],\n",
    "        'quiet': True,\n",
    "        'no_warnings': True,\n",
    "    }\n",
    "    with yt_dlp.YoutubeDL(ydl_opts) as ydl:\n",
    "        ydl.download([url])\n",
    "\n",
    "if __name__ == \"__main__\":\n",
    "    url_video = \"https://youtu.be/PlGQtL0oI1k?si=81I-gYAL2YKO-h6t\"\n",
    "    descargar_audio_youtube(url_video)\n",
    "    print(\"¡Audio descargado y convertido a mp3!\")\n"
   ]
  },
  {
   "cell_type": "code",
   "execution_count": 26,
   "id": "f822864f",
   "metadata": {},
   "outputs": [
    {
     "name": "stderr",
     "output_type": "stream",
     "text": [
      "Device set to use cpu\n",
      "Using `chunk_length_s` is very experimental with seq2seq models. The results will not necessarily be entirely accurate and will have caveats. More information: https://github.com/huggingface/transformers/pull/20104. Ignore this warning with pipeline(..., ignore_warning=True). To use Whisper for long-form transcription, use rather the model's `generate` method directly as the model relies on it's own chunking mechanism (cf. Whisper original paper, section 3.8. Long-form Transcription).\n"
     ]
    },
    {
     "name": "stdout",
     "output_type": "stream",
     "text": [
      "Transcripción:\n",
      "  Bueno, esta recermana, tengo una pregunta que hacerle. En Mateo 8 del verso 28 al 34, pero sólo le voy a hacer la pregunta. Sí, sí, sí. Bueno, en Mateo 8, 28 al 34. Sí. Después de haber libertado de espíritus a los en demoniados, el pueblo le pidió injustamente al señor Jesucristo que se fueran. Sería que no quería que el libertara a más almas o porque no creían en él. Bueno, porque esa región era una región de gente increíble y estaban allí escuchan y ellos vivían de burujerías, de chicerías, vivían adorando demonios, adorando espíritus, idolos, y por supuesto que ellos también tenían sus adivinos, sus magos, sus hechiceros, y cuando el Señor Jesucristo apareció ahí, predicándole van Evangelio de Asiéndolos milagros y dice que el señor libertó a esas dos personas eran dos personas, dice que estaban con demonios que tenían muchos demonios cuando esas personas quedaron libertadas de esos demonios ellos dijeron, no nos conviene, no nos conviene porque este nos vino a quitar el negocio, ¿eh? El negocio que tenemos aquí, este no lo viene a quitar, es la competencia, así que no nos conviene, baíese Jesús de Nazarebaíese para otro territorio y dejenos aquí en paz que quistamos bien con nuestros brujos, con nuestros hechiceros y aquí haciendo todas estas cosas, Eso fue lo que aconteceu. Este pueblo como vivía tan mal, vivientan mal delante de Dios eran, eran que instrumentos del diablo, realmente esclavos del diablo estaban y no querían que el señor hiciera milagros para bien, sino que ellos todos querían seguir viviendo del negocio, porque además en brujería y energizos cobran, por eso, en cambio lo de Dios no hay que cobrar esos gratis, el señor libertad gratis, sin cobrar, pero los brujos y los exquiseros y los magos ellos tienen que ganar y por eso fue que le dio ira, porque eran los que mandaban en el pueblo, y por eso echaron al señor Jesús, porque le dañaba el negocio. Ellos no les interesaba la vida eterna ni les interesaba tener paz, tener felicidad, vivir con Dios. Ellos no les interesaba estas cosas. Bueno, así aprendemos de todo, ¿no? Y hoy en día, habrá lugares también donde la gente va a pensar igual, seguramente. No os dudemos, pero ya estamos preparados, estamos con nuestros dios y dios y de la verdadera felicidad.\n"
     ]
    }
   ],
   "source": [
    "from transformers import pipeline\n",
    "\n",
    "def transcribir_audio_hf(ruta_audio: str) -> str:\n",
    "    # Cargar pipeline de transcripción Whisper en español\n",
    "    transcriptor = pipeline(\"automatic-speech-recognition\", model=\"openai/whisper-tiny\", device=-1, chunk_length_s=30)\n",
    "\n",
    "    # Transcribir el audio\n",
    "    resultado = transcriptor(ruta_audio)\n",
    "    \n",
    "    # Retornar texto transcrito\n",
    "    return resultado['text']\n",
    "\n",
    "if __name__ == \"__main__\":\n",
    "    archivo_audio = \"C:/Users/JL/Downloads/X/audio.mp3\"  # Cambia aquí por tu archivo\n",
    "    texto = transcribir_audio_hf(archivo_audio)\n",
    "    print(\"Transcripción:\\n\", texto)\n"
   ]
  },
  {
   "cell_type": "code",
   "execution_count": 27,
   "id": "975b9688",
   "metadata": {},
   "outputs": [],
   "source": [
    "# from transformers import pipeline\n",
    "\n",
    "# def transcribir_audio_hf(ruta_audio: str) -> str:\n",
    "#     # Cargar pipeline de transcripción Whisper en español\n",
    "#     transcriptor = pipeline(\"automatic-speech-recognition\", model=\"openai/whisper-tiny\", device=-1, chunk_length_s=30)\n",
    "\n",
    "#     # Transcribir el audio\n",
    "#     resultado = transcriptor(ruta_audio)\n",
    "    \n",
    "#     # Retornar texto transcrito\n",
    "#     return resultado['text']\n",
    "\n",
    "# if __name__ == \"__main__\":\n",
    "#     archivo_audio = \"C:/Users/JL/Downloads/QueridaYo.mp3\"  # Cambia aquí por tu archivo\n",
    "#     texto = transcribir_audio_hf(archivo_audio)\n",
    "#     print(\"Transcripción:\\n\", texto)\n"
   ]
  },
  {
   "cell_type": "code",
   "execution_count": 34,
   "id": "80d10af7",
   "metadata": {},
   "outputs": [],
   "source": [
    "# HF_TOKEN = os.environ.get(\"HUGGINGFACEHUB_API_TOKEN\")\n",
    "import os"
   ]
  },
  {
   "cell_type": "code",
   "execution_count": 35,
   "id": "060c97fe",
   "metadata": {},
   "outputs": [
    {
     "name": "stdout",
     "output_type": "stream",
     "text": [
      "Requirement already satisfied: faiss-cpu in c:\\users\\jl\\appdata\\local\\programs\\python\\python310\\lib\\site-packages (1.11.0.post1)\n",
      "Requirement already satisfied: numpy<3.0,>=1.25.0 in c:\\users\\jl\\appdata\\local\\programs\\python\\python310\\lib\\site-packages (from faiss-cpu) (2.2.6)\n",
      "Requirement already satisfied: packaging in c:\\users\\jl\\appdata\\local\\programs\\python\\python310\\lib\\site-packages (from faiss-cpu) (25.0)\n",
      "Note: you may need to restart the kernel to use updated packages.\n",
      "Requirement already satisfied: transformers in c:\\users\\jl\\appdata\\local\\programs\\python\\python310\\lib\\site-packages (4.55.0)\n",
      "Requirement already satisfied: sentence-transformers in c:\\users\\jl\\appdata\\local\\programs\\python\\python310\\lib\\site-packages (5.1.0)\n",
      "Requirement already satisfied: filelock in c:\\users\\jl\\appdata\\local\\programs\\python\\python310\\lib\\site-packages (from transformers) (3.18.0)\n",
      "Requirement already satisfied: huggingface-hub<1.0,>=0.34.0 in c:\\users\\jl\\appdata\\local\\programs\\python\\python310\\lib\\site-packages (from transformers) (0.34.4)\n",
      "Requirement already satisfied: numpy>=1.17 in c:\\users\\jl\\appdata\\local\\programs\\python\\python310\\lib\\site-packages (from transformers) (2.2.6)\n",
      "Requirement already satisfied: packaging>=20.0 in c:\\users\\jl\\appdata\\local\\programs\\python\\python310\\lib\\site-packages (from transformers) (25.0)\n",
      "Requirement already satisfied: pyyaml>=5.1 in c:\\users\\jl\\appdata\\local\\programs\\python\\python310\\lib\\site-packages (from transformers) (6.0.2)\n",
      "Requirement already satisfied: regex!=2019.12.17 in c:\\users\\jl\\appdata\\local\\programs\\python\\python310\\lib\\site-packages (from transformers) (2025.7.34)\n",
      "Requirement already satisfied: requests in c:\\users\\jl\\appdata\\local\\programs\\python\\python310\\lib\\site-packages (from transformers) (2.32.4)\n",
      "Requirement already satisfied: tokenizers<0.22,>=0.21 in c:\\users\\jl\\appdata\\local\\programs\\python\\python310\\lib\\site-packages (from transformers) (0.21.4)\n",
      "Requirement already satisfied: safetensors>=0.4.3 in c:\\users\\jl\\appdata\\local\\programs\\python\\python310\\lib\\site-packages (from transformers) (0.6.2)\n",
      "Requirement already satisfied: tqdm>=4.27 in c:\\users\\jl\\appdata\\local\\programs\\python\\python310\\lib\\site-packages (from transformers) (4.67.1)\n",
      "Requirement already satisfied: fsspec>=2023.5.0 in c:\\users\\jl\\appdata\\local\\programs\\python\\python310\\lib\\site-packages (from huggingface-hub<1.0,>=0.34.0->transformers) (2025.3.0)\n",
      "Requirement already satisfied: typing-extensions>=3.7.4.3 in c:\\users\\jl\\appdata\\local\\programs\\python\\python310\\lib\\site-packages (from huggingface-hub<1.0,>=0.34.0->transformers) (4.14.1)\n",
      "Requirement already satisfied: torch>=1.11.0 in c:\\users\\jl\\appdata\\local\\programs\\python\\python310\\lib\\site-packages (from sentence-transformers) (2.8.0+cu126)\n",
      "Requirement already satisfied: scikit-learn in c:\\users\\jl\\appdata\\local\\programs\\python\\python310\\lib\\site-packages (from sentence-transformers) (1.7.1)\n",
      "Requirement already satisfied: scipy in c:\\users\\jl\\appdata\\local\\programs\\python\\python310\\lib\\site-packages (from sentence-transformers) (1.15.3)\n",
      "Requirement already satisfied: Pillow in c:\\users\\jl\\appdata\\local\\programs\\python\\python310\\lib\\site-packages (from sentence-transformers) (11.3.0)\n",
      "Requirement already satisfied: sympy>=1.13.3 in c:\\users\\jl\\appdata\\local\\programs\\python\\python310\\lib\\site-packages (from torch>=1.11.0->sentence-transformers) (1.14.0)\n",
      "Requirement already satisfied: networkx in c:\\users\\jl\\appdata\\local\\programs\\python\\python310\\lib\\site-packages (from torch>=1.11.0->sentence-transformers) (3.4.2)\n",
      "Requirement already satisfied: jinja2 in c:\\users\\jl\\appdata\\local\\programs\\python\\python310\\lib\\site-packages (from torch>=1.11.0->sentence-transformers) (3.1.6)\n",
      "Requirement already satisfied: mpmath<1.4,>=1.1.0 in c:\\users\\jl\\appdata\\local\\programs\\python\\python310\\lib\\site-packages (from sympy>=1.13.3->torch>=1.11.0->sentence-transformers) (1.3.0)\n",
      "Requirement already satisfied: colorama in c:\\users\\jl\\appdata\\local\\programs\\python\\python310\\lib\\site-packages (from tqdm>=4.27->transformers) (0.4.6)\n",
      "Requirement already satisfied: MarkupSafe>=2.0 in c:\\users\\jl\\appdata\\local\\programs\\python\\python310\\lib\\site-packages (from jinja2->torch>=1.11.0->sentence-transformers) (3.0.2)\n",
      "Requirement already satisfied: charset_normalizer<4,>=2 in c:\\users\\jl\\appdata\\local\\programs\\python\\python310\\lib\\site-packages (from requests->transformers) (3.4.3)\n",
      "Requirement already satisfied: idna<4,>=2.5 in c:\\users\\jl\\appdata\\local\\programs\\python\\python310\\lib\\site-packages (from requests->transformers) (3.10)\n",
      "Requirement already satisfied: urllib3<3,>=1.21.1 in c:\\users\\jl\\appdata\\local\\programs\\python\\python310\\lib\\site-packages (from requests->transformers) (2.5.0)\n",
      "Requirement already satisfied: certifi>=2017.4.17 in c:\\users\\jl\\appdata\\local\\programs\\python\\python310\\lib\\site-packages (from requests->transformers) (2025.8.3)\n",
      "Requirement already satisfied: joblib>=1.2.0 in c:\\users\\jl\\appdata\\local\\programs\\python\\python310\\lib\\site-packages (from scikit-learn->sentence-transformers) (1.5.1)\n",
      "Requirement already satisfied: threadpoolctl>=3.1.0 in c:\\users\\jl\\appdata\\local\\programs\\python\\python310\\lib\\site-packages (from scikit-learn->sentence-transformers) (3.6.0)\n",
      "Note: you may need to restart the kernel to use updated packages.\n"
     ]
    }
   ],
   "source": [
    "# %pip install sentence-transformers faiss-cpu transformers accelerate huggingface-hub\n",
    "# %pip install langchain \n",
    "%pip install faiss-cpu\n",
    "%pip install transformers sentence-transformers"
   ]
  },
  {
   "cell_type": "code",
   "execution_count": 36,
   "id": "e9282344",
   "metadata": {},
   "outputs": [],
   "source": [
    "import faiss\n",
    "import torch\n",
    "from transformers import AutoTokenizer, AutoModelForQuestionAnswering, pipeline\n",
    "from sentence_transformers import SentenceTransformer\n",
    "import numpy as np\n",
    "\n",
    "# ---------------------------\n",
    "# CONFIGURACIÓN GLOBAL\n",
    "# ---------------------------\n",
    "\n",
    "# Forzamos CPU\n",
    "device = torch.device(\"cpu\")"
   ]
  },
  {
   "cell_type": "code",
   "execution_count": 31,
   "id": "dce92803",
   "metadata": {},
   "outputs": [
    {
     "name": "stdout",
     "output_type": "stream",
     "text": [
      "Cargando modelo de embeddings...\n",
      "Cargando modelo QA...\n"
     ]
    },
    {
     "name": "stderr",
     "output_type": "stream",
     "text": [
      "Some weights of the model checkpoint at mrm8488/bert-base-spanish-wwm-cased-finetuned-spa-squad2-es were not used when initializing BertForQuestionAnswering: ['bert.pooler.dense.bias', 'bert.pooler.dense.weight']\n",
      "- This IS expected if you are initializing BertForQuestionAnswering from the checkpoint of a model trained on another task or with another architecture (e.g. initializing a BertForSequenceClassification model from a BertForPreTraining model).\n",
      "- This IS NOT expected if you are initializing BertForQuestionAnswering from the checkpoint of a model that you expect to be exactly identical (initializing a BertForSequenceClassification model from a BertForSequenceClassification model).\n",
      "Device set to use cpu\n"
     ]
    }
   ],
   "source": [
    "# Cargar embeddings para búsqueda semántica\n",
    "print(\"Cargando modelo de embeddings...\")\n",
    "embedder = SentenceTransformer('sentence-transformers/paraphrase-multilingual-MiniLM-L12-v2', device='cpu')\n",
    "\n",
    "# Cargar modelo QA en español\n",
    "print(\"Cargando modelo QA...\")\n",
    "qa_model_name = \"mrm8488/bert-base-spanish-wwm-cased-finetuned-spa-squad2-es\"\n",
    "tokenizer = AutoTokenizer.from_pretrained(qa_model_name)\n",
    "qa_model = AutoModelForQuestionAnswering.from_pretrained(qa_model_name)\n",
    "qa_pipeline = pipeline(\"question-answering\", model=qa_model, tokenizer=tokenizer, device=-1)\n",
    "\n",
    "# ---------------------------\n",
    "# FUNCIONES DEL RAG\n",
    "# ---------------------------\n",
    "\n",
    "def crear_indice_faiss(textos):\n",
    "    \"\"\"Crea un índice FAISS a partir de una lista de textos.\"\"\"\n",
    "    embeddings = embedder.encode(textos, convert_to_tensor=False, normalize_embeddings=True)\n",
    "    embeddings = np.array(embeddings).astype(\"float32\")\n",
    "\n",
    "    dim = embeddings.shape[1]\n",
    "    index = faiss.IndexFlatIP(dim)\n",
    "    index.add(embeddings)\n",
    "    return index, textos\n",
    "\n",
    "def buscar_contexto(query, index, textos, k=3):\n",
    "    \"\"\"Busca los k textos más relevantes para la query.\"\"\"\n",
    "    query_emb = embedder.encode([query], convert_to_tensor=False, normalize_embeddings=True)\n",
    "    query_emb = np.array(query_emb).astype(\"float32\")\n",
    "    scores, idxs = index.search(query_emb, k)\n",
    "    resultados = [textos[i] for i in idxs[0]]\n",
    "    return resultados\n",
    "\n",
    "def responder_pregunta(pregunta, contexto):\n",
    "    \"\"\"Usa el modelo QA para responder usando el contexto.\"\"\"\n",
    "    combined_context = \" \".join(contexto)\n",
    "    result = qa_pipeline({\n",
    "        \"context\": combined_context,\n",
    "        \"question\": pregunta\n",
    "    })\n",
    "    return result['answer']"
   ]
  },
  {
   "cell_type": "code",
   "execution_count": 37,
   "id": "e6b87e4a",
   "metadata": {},
   "outputs": [],
   "source": [
    "# Carga de contexto\n",
    "texto_transcrito = texto\n",
    "\n",
    "# 2. Contexto adicional (puedes agregar documentos, PDFs, etc.)\n",
    "documentos_extra = [\n",
    "    \" \"]\n",
    "\n",
    "# Unir todo en un corpus\n",
    "corpus = [texto_transcrito] + documentos_extra\n",
    "\n",
    "# 3. Crear índice FAISS\n",
    "indice, textos = crear_indice_faiss(corpus)"
   ]
  },
  {
   "cell_type": "code",
   "execution_count": 38,
   "id": "56f7b3e7",
   "metadata": {},
   "outputs": [
    {
     "name": "stdout",
     "output_type": "stream",
     "text": [
      "\n",
      "📌 Pregunta: ¿Porqué los magos no querían al señor Jesucristo?\n",
      "📚 Contexto usado: [' Bueno, esta recermana, tengo una pregunta que hacerle. En Mateo 8 del verso 28 al 34, pero sólo le voy a hacer la pregunta. Sí, sí, sí. Bueno, en Mateo 8, 28 al 34. Sí. Después de haber libertado de espíritus a los en demoniados, el pueblo le pidió injustamente al señor Jesucristo que se fueran. Sería que no quería que el libertara a más almas o porque no creían en él. Bueno, porque esa región era una región de gente increíble y estaban allí escuchan y ellos vivían de burujerías, de chicerías, vivían adorando demonios, adorando espíritus, idolos, y por supuesto que ellos también tenían sus adivinos, sus magos, sus hechiceros, y cuando el Señor Jesucristo apareció ahí, predicándole van Evangelio de Asiéndolos milagros y dice que el señor libertó a esas dos personas eran dos personas, dice que estaban con demonios que tenían muchos demonios cuando esas personas quedaron libertadas de esos demonios ellos dijeron, no nos conviene, no nos conviene porque este nos vino a quitar el negocio, ¿eh? El negocio que tenemos aquí, este no lo viene a quitar, es la competencia, así que no nos conviene, baíese Jesús de Nazarebaíese para otro territorio y dejenos aquí en paz que quistamos bien con nuestros brujos, con nuestros hechiceros y aquí haciendo todas estas cosas, Eso fue lo que aconteceu. Este pueblo como vivía tan mal, vivientan mal delante de Dios eran, eran que instrumentos del diablo, realmente esclavos del diablo estaban y no querían que el señor hiciera milagros para bien, sino que ellos todos querían seguir viviendo del negocio, porque además en brujería y energizos cobran, por eso, en cambio lo de Dios no hay que cobrar esos gratis, el señor libertad gratis, sin cobrar, pero los brujos y los exquiseros y los magos ellos tienen que ganar y por eso fue que le dio ira, porque eran los que mandaban en el pueblo, y por eso echaron al señor Jesús, porque le dañaba el negocio. Ellos no les interesaba la vida eterna ni les interesaba tener paz, tener felicidad, vivir con Dios. Ellos no les interesaba estas cosas. Bueno, así aprendemos de todo, ¿no? Y hoy en día, habrá lugares también donde la gente va a pensar igual, seguramente. No os dudemos, pero ya estamos preparados, estamos con nuestros dios y dios y de la verdadera felicidad.', ' ', ' ']\n",
      "💡 Respuesta: porque le dañaba el negocio\n"
     ]
    }
   ],
   "source": [
    "# 4. Hacer una pregunta\n",
    "# pregunta_usuario = \"¿Cómo funciona el algoritmo de recomendación de YouTube para personalizar el contenido que se muestra a cada usuario?\"\n",
    "# pregunta_usuario = \"¿Cuándo nació Youtube?\"\n",
    "# pregunta_usuario = \"¿Cuándo nació Youtube?\"\n",
    "pregunta_usuario = \"¿Porqué los magos no querían al señor Jesucristo?\"\n",
    "contexto_relevante = buscar_contexto(pregunta_usuario, indice, textos)\n",
    "respuesta = responder_pregunta(pregunta_usuario, contexto_relevante)\n",
    "\n",
    "print(\"\\n📌 Pregunta:\", pregunta_usuario)\n",
    "print(\"📚 Contexto usado:\", contexto_relevante)\n",
    "print(\"💡 Respuesta:\", respuesta)"
   ]
  }
 ],
 "metadata": {
  "kernelspec": {
   "display_name": "Python 3",
   "language": "python",
   "name": "python3"
  },
  "language_info": {
   "codemirror_mode": {
    "name": "ipython",
    "version": 3
   },
   "file_extension": ".py",
   "mimetype": "text/x-python",
   "name": "python",
   "nbconvert_exporter": "python",
   "pygments_lexer": "ipython3",
   "version": "3.10.0"
  }
 },
 "nbformat": 4,
 "nbformat_minor": 5
}
